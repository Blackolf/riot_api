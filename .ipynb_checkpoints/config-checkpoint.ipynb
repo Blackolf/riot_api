{
 "cells": [
  {
   "cell_type": "code",
   "execution_count": 15,
   "id": "6d11923b",
   "metadata": {},
   "outputs": [],
   "source": [
    "class SelfConfig :\n",
    "\n",
    "    def __init__(self,name,tag,api_key):\n",
    "        self.gameName = name\n",
    "        self.tagLine = tag\n",
    "        self.api_key = api_key\n",
    "    \n",
    "    def __str__(self):\n",
    "        return (f\"gameName : {gameName} \\ntagLine : {tagLine} \\napi_key : {api_key}\")\n",
    "    \n",
    "def generateSelfConfig():\n",
    "    gameName = 'CangTaí'\n",
    "    tagLine = 6666\n",
    "    api_key = 'RGAPI-b8aaf89a-0297-43a2-a45b-c5ef2f4d4c9f'\n",
    "\n",
    "    self_config = SelfConfig(gameName,tagLine,api_key)\n",
    "    return self_config\n",
    "    "
   ]
  },
  {
   "cell_type": "code",
   "execution_count": 16,
   "id": "cee3eac8",
   "metadata": {},
   "outputs": [
    {
     "name": "stdout",
     "output_type": "stream",
     "text": [
      "gameName : CangTaí \n",
      "tagLine : 6666 \n",
      "api_key : RGAPI-b8aaf89a-0297-43a2-a45b-c5ef2f4d4c9f\n"
     ]
    }
   ],
   "source": [
    "a= generateSelfConfig()\n",
    "\n",
    "print(a)"
   ]
  },
  {
   "cell_type": "code",
   "execution_count": null,
   "id": "0eb494ef",
   "metadata": {},
   "outputs": [],
   "source": []
  }
 ],
 "metadata": {
  "kernelspec": {
   "display_name": "Python 3 (ipykernel)",
   "language": "python",
   "name": "python3"
  },
  "language_info": {
   "codemirror_mode": {
    "name": "ipython",
    "version": 3
   },
   "file_extension": ".py",
   "mimetype": "text/x-python",
   "name": "python",
   "nbconvert_exporter": "python",
   "pygments_lexer": "ipython3",
   "version": "3.8.8"
  }
 },
 "nbformat": 4,
 "nbformat_minor": 5
}
