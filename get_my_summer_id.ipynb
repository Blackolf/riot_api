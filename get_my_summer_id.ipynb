{
 "cells": [
  {
   "cell_type": "code",
   "execution_count": 49,
   "id": "887abfa9",
   "metadata": {},
   "outputs": [
    {
     "ename": "SyntaxError",
     "evalue": "unexpected EOF while parsing (Temp/ipykernel_3984/1249767186.py, line 18)",
     "output_type": "error",
     "traceback": [
      "\u001b[1;36m  File \u001b[1;32m\"C:\\Users\\wuchi\\AppData\\Local\\Temp/ipykernel_3984/1249767186.py\"\u001b[1;36m, line \u001b[1;32m18\u001b[0m\n\u001b[1;33m    \u001b[0m\n\u001b[1;37m    ^\u001b[0m\n\u001b[1;31mSyntaxError\u001b[0m\u001b[1;31m:\u001b[0m unexpected EOF while parsing\n"
     ]
    }
   ],
   "source": [
    "import requests\n",
    "import json\n",
    "import config\n",
    "\n",
    "config.generateSelfConfig()\n",
    "\n",
    "\n",
    "gameName = 'CangTaí'\n",
    "tagLine = 6666\n",
    "api_key = 'RGAPI-b8aaf89a-0297-43a2-a45b-c5ef2f4d4c9f'\n",
    "\n",
    "url = f\"https://americas.api.riotgames.com/riot/account/v1/accounts/by-riot-id/{gameName}/{tagLine}?api_key={api_key}\"\n",
    "\n",
    "try :\n",
    "    r = requests.get(url)\n",
    "    if r.status_code != 200:\n",
    "        \n",
    "\n"
   ]
  },
  {
   "cell_type": "code",
   "execution_count": 5,
   "id": "109591af",
   "metadata": {},
   "outputs": [
    {
     "name": "stdout",
     "output_type": "stream",
     "text": [
      "https://americas.api.riotgames.com/riot/account/v1/accounts/by-riot-id/CangTaí/6666?api_key=RGAPI-b8aaf89a-0297-43a2-a45b-c5ef2f4d4c9f\n"
     ]
    }
   ],
   "source": []
  },
  {
   "cell_type": "code",
   "execution_count": 10,
   "id": "5e02977d",
   "metadata": {},
   "outputs": [
    {
     "name": "stdout",
     "output_type": "stream",
     "text": [
      "{\"puuid\":\"FwtDiNF4sXZa_46j1d8L5rao3Txef3CiGfb276RbL6NUE4zWNvOs6n1hSGNQUyzLxUDZCYcSnJPIgw\",\"gameName\":\"CangTaí\",\"tagLine\":\"6666\"}\n",
      "<bound method Response.json of <Response [200]>>\n"
     ]
    }
   ],
   "source": [
    "\n",
    "r = requests.get(url)\n",
    "r.status_code\n",
    "# 200\n",
    "# r.headers['content-type']\n",
    "# 'application/json; charset=utf8'\n",
    "# r.encoding\n",
    "# 'utf-8'\n",
    "res = r.text\n",
    "# u'{\"type\":\"User\"...'\n",
    "res_json = r.json\n",
    "\n",
    "res_loaded = json.loads(res)\n",
    "\n",
    "for key , val in res_loaded.items():\n",
    "    print(f\"key : {key} , val : {val}\")"
   ]
  },
  {
   "cell_type": "code",
   "execution_count": 17,
   "id": "fe65bbb0",
   "metadata": {},
   "outputs": [
    {
     "name": "stdout",
     "output_type": "stream",
     "text": [
      "key : puuid , val : FwtDiNF4sXZa_46j1d8L5rao3Txef3CiGfb276RbL6NUE4zWNvOs6n1hSGNQUyzLxUDZCYcSnJPIgw\n",
      "key : gameName , val : CangTaí\n",
      "key : tagLine , val : 6666\n"
     ]
    }
   ],
   "source": []
  },
  {
   "cell_type": "code",
   "execution_count": 43,
   "id": "73c40e87",
   "metadata": {},
   "outputs": [
    {
     "name": "stdout",
     "output_type": "stream",
     "text": [
      "\"\":\"\",\n",
      "\"PLATFORM\":\"HOST\",\n",
      "\"BR1\":\"br1.api.riotgames.com\",\n",
      "\"EUN1\":\"eun1.api.riotgames.com\",\n",
      "\"EUW1\":\"euw1.api.riotgames.com\",\n",
      "\"JP1\":\"jp1.api.riotgames.com\",\n",
      "\"KR\":\"kr.api.riotgames.com\",\n",
      "\"LA1\":\"la1.api.riotgames.com\",\n",
      "\"LA2\":\"la2.api.riotgames.com\",\n",
      "\"NA1\":\"na1.api.riotgames.com\",\n",
      "\"OC1\":\"oc1.api.riotgames.com\",\n",
      "\"TR1\":\"tr1.api.riotgames.com\",\n",
      "\"RU\":\"ru.api.riotgames.com\",\n",
      "\"\":\"\",\n",
      "\"REGION\":\"HOST\",\n",
      "\"AMERICAS\":\"americas.api.riotgames.com\",\n",
      "\"ASIA\":\"asia.api.riotgames.com\",\n",
      "\"EUROPE\":\"europe.api.riotgames.com\",\n",
      "\"\":\"\",\n"
     ]
    }
   ],
   "source": [
    "\n",
    "platform_txt = \"\"\"\n",
    "PLATFORM\tHOST\n",
    "BR1\tbr1.api.riotgames.com\n",
    "EUN1\teun1.api.riotgames.com\n",
    "EUW1\teuw1.api.riotgames.com\n",
    "JP1\tjp1.api.riotgames.com\n",
    "KR\tkr.api.riotgames.com\n",
    "LA1\tla1.api.riotgames.com\n",
    "LA2\tla2.api.riotgames.com\n",
    "NA1\tna1.api.riotgames.com\n",
    "OC1\toc1.api.riotgames.com\n",
    "TR1\ttr1.api.riotgames.com\n",
    "RU\tru.api.riotgames.com\n",
    "\"\"\"\n",
    "region_txt = \"\"\"\n",
    "REGION\tHOST\n",
    "AMERICAS\tamericas.api.riotgames.com\n",
    "ASIA\tasia.api.riotgames.com\n",
    "EUROPE\teurope.api.riotgames.com\n",
    "\n",
    "\"\"\"\n",
    "\n",
    "\n",
    "platform_txt = platform_txt.replace(\"\t\",\"!\")\n",
    "platform_txt = platform_txt.replace(\"\\n\",\"!\")\n",
    "region_txt = region_txt.replace(\"\t\",\"!\")\n",
    "region_txt = region_txt.replace(\"\\n\",\"!\")\n",
    "\n",
    "counter = 1\n",
    "for x in platform_txt.split(\"!\"):\n",
    "    if counter ==1: \n",
    "        print(f'\"{a}\":\"{x}\",')\n",
    "    a = x\n",
    "    counter = 1-counter    \n",
    "    \n",
    "counter = 1\n",
    "for x in region_txt.split(\"!\"):\n",
    "    if counter ==1: \n",
    "        print(f'\"{a}\":\"{x}\",')\n",
    "    a = x\n",
    "    counter = 1-counter    \n",
    "    "
   ]
  },
  {
   "cell_type": "code",
   "execution_count": 41,
   "id": "db34f08e",
   "metadata": {},
   "outputs": [],
   "source": [
    "platform = {\"BR1\":\"br1.api.riotgames.com\",\n",
    "\"EUN1\":\"eun1.api.riotgames.com\",\n",
    "\"EUW1\":\"euw1.api.riotgames.com\",\n",
    "\"JP1\":\"jp1.api.riotgames.com\",\n",
    "\"KR\":\"kr.api.riotgames.com\",\n",
    "\"LA1\":\"la1.api.riotgames.com\",\n",
    "\"LA2\":\"la2.api.riotgames.com\",\n",
    "\"NA1\":\"na1.api.riotgames.com\",\n",
    "\"OC1\":\"oc1.api.riotgames.com\",\n",
    "\"TR1\":\"tr1.api.riotgames.com\",\n",
    "\"RU\":\"ru.api.riotgames.com\"}\n"
   ]
  },
  {
   "cell_type": "code",
   "execution_count": null,
   "id": "8faed3f8",
   "metadata": {},
   "outputs": [],
   "source": []
  }
 ],
 "metadata": {
  "kernelspec": {
   "display_name": "Python 3 (ipykernel)",
   "language": "python",
   "name": "python3"
  },
  "language_info": {
   "codemirror_mode": {
    "name": "ipython",
    "version": 3
   },
   "file_extension": ".py",
   "mimetype": "text/x-python",
   "name": "python",
   "nbconvert_exporter": "python",
   "pygments_lexer": "ipython3",
   "version": "3.8.8"
  }
 },
 "nbformat": 4,
 "nbformat_minor": 5
}
